{
 "cells": [
  {
   "cell_type": "code",
   "execution_count": 1,
   "metadata": {},
   "outputs": [],
   "source": [
    "from celltreebench.datasets.celegans import load_celegans_supervised_split"
   ]
  },
  {
   "cell_type": "code",
   "execution_count": 2,
   "metadata": {},
   "outputs": [
    {
     "name": "stderr",
     "output_type": "stream",
     "text": [
      "2025-06-23 09:19:28,967 - celltreebench.datasets.celegans_dataset_base - INFO - Creating topology tree for dataset [celegans_small]\n",
      "2025-06-23 09:19:28,968 - celltreebench.datasets.celegans_dataset_base - INFO - Loading lineage tree from /workspaces/1-phydist/main/CellTreeBench/data/celegans_small/P0/tree_df-P0.csv\n",
      "2025-06-23 09:19:28,979 - celltreebench.datasets.celegans_dataset_base - INFO - Completed removal of leaves with zero cells\n",
      "2025-06-23 09:19:28,981 - celltreebench.datasets.celegans_dataset_base - INFO - Saved topology tree to /workspaces/1-phydist/main/CellTreeBench/examples/out/supervised_split_example_celegans_small_P0/topology_tree-ncells.txt\n",
      "2025-06-23 09:19:28,982 - celltreebench.datasets.celegans_dataset_base - INFO - Saved topology tree pickle to /workspaces/1-phydist/main/CellTreeBench/examples/out/supervised_split_example_celegans_small_P0/topology_tree.pickle\n",
      "2025-06-23 09:19:29,565 - celltreebench.datasets.celegans_dataset_base - INFO - Loading cached gene expression data from /workspaces/1-phydist/main/CellTreeBench/data/celegans_small/P0/exprs_df_cache.pkl\n",
      "2025-06-23 09:19:30,419 - celltreebench.datasets.celegans_dataset_base - INFO - Cached expression data as class statics for future use\n",
      "2025-06-23 09:19:30,420 - celltreebench.datasets.celegans_dataset_base - INFO - Calculated total quartets: 4249575\n",
      "2025-06-23 09:19:30,420 - celltreebench.datasets.celegans_dataset_base - INFO - Creating leaves metadata...\n",
      "2025-06-23 09:19:30,783 - celltreebench.datasets.celegans_dataset_base - INFO - Creating reference distance matrix...\n",
      "2025-06-23 09:19:30,943 - celltreebench.datasets.celegans_dataset_supervised - INFO - Generating supervised data with seed: 42\n",
      "2025-06-23 09:19:30,944 - celltreebench.datasets.celegans_dataset_supervised - INFO - [prepare_supervised_data] Seed: 42\n",
      "2025-06-23 09:19:31,036 - celltreebench.datasets.celegans_dataset_supervised - INFO - Genes have less than 10 umis in total: 7594 out of 20222\n",
      "2025-06-23 09:19:31,263 - celltreebench.datasets.celegans_dataset_supervised - INFO - Remaining genes: 12628\n",
      "2025-06-23 09:19:31,263 - celltreebench.datasets.celegans_dataset_supervised - INFO - Sampling strategy: biological\n",
      "2025-06-23 09:19:31,264 - celltreebench.datasets.celegans_dataset_supervised - INFO - Calculated feature statistics for 102 leaves\n",
      "2025-06-23 09:19:37,208 - celltreebench.datasets.celegans_dataset_base - INFO - Creating topology tree for dataset [celegans_small]\n",
      "2025-06-23 09:19:37,208 - celltreebench.datasets.celegans_dataset_base - INFO - Loading lineage tree from /workspaces/1-phydist/main/CellTreeBench/data/celegans_small/P0/tree_df-P0.csv\n",
      "2025-06-23 09:19:37,218 - celltreebench.datasets.celegans_dataset_base - INFO - Completed removal of leaves with zero cells\n",
      "2025-06-23 09:19:37,220 - celltreebench.datasets.celegans_dataset_base - INFO - Saved topology tree to /workspaces/1-phydist/main/CellTreeBench/examples/out/supervised_split_example_celegans_small_P0/topology_tree-ncells.txt\n",
      "2025-06-23 09:19:37,221 - celltreebench.datasets.celegans_dataset_base - INFO - Saved topology tree pickle to /workspaces/1-phydist/main/CellTreeBench/examples/out/supervised_split_example_celegans_small_P0/topology_tree.pickle\n",
      "2025-06-23 09:19:37,771 - celltreebench.datasets.celegans_dataset_base - INFO - Using cached expression data...\n",
      "2025-06-23 09:19:37,771 - celltreebench.datasets.celegans_dataset_base - INFO - Calculated total quartets: 4249575\n",
      "2025-06-23 09:19:37,772 - celltreebench.datasets.celegans_dataset_base - INFO - Creating leaves metadata...\n",
      "2025-06-23 09:19:38,103 - celltreebench.datasets.celegans_dataset_base - INFO - Creating reference distance matrix...\n",
      "2025-06-23 09:19:38,260 - celltreebench.datasets.celegans_dataset_supervised - INFO - Generated supervised data provided. Training mode.\n",
      "2025-06-23 09:19:38,260 - celltreebench.datasets.celegans_dataset_base - INFO - Creating topology tree for dataset [celegans_small]\n",
      "2025-06-23 09:19:38,261 - celltreebench.datasets.celegans_dataset_base - INFO - Loading lineage tree from /workspaces/1-phydist/main/CellTreeBench/data/celegans_small/P0/tree_df-P0.csv\n",
      "2025-06-23 09:19:38,270 - celltreebench.datasets.celegans_dataset_base - INFO - Completed removal of leaves with zero cells\n",
      "2025-06-23 09:19:38,277 - celltreebench.datasets.celegans_dataset_base - INFO - Saved topology tree to /workspaces/1-phydist/main/CellTreeBench/examples/out/supervised_split_example_celegans_small_P0/topology_tree-ncells.txt\n",
      "2025-06-23 09:19:38,278 - celltreebench.datasets.celegans_dataset_base - INFO - Saved topology tree pickle to /workspaces/1-phydist/main/CellTreeBench/examples/out/supervised_split_example_celegans_small_P0/topology_tree.pickle\n",
      "2025-06-23 09:19:38,803 - celltreebench.datasets.celegans_dataset_base - INFO - Using cached expression data...\n",
      "2025-06-23 09:19:38,804 - celltreebench.datasets.celegans_dataset_base - INFO - Calculated total quartets: 4249575\n",
      "2025-06-23 09:19:38,804 - celltreebench.datasets.celegans_dataset_base - INFO - Creating leaves metadata...\n",
      "2025-06-23 09:19:39,134 - celltreebench.datasets.celegans_dataset_base - INFO - Creating reference distance matrix...\n",
      "2025-06-23 09:19:39,292 - celltreebench.datasets.celegans_dataset_supervised - INFO - Generated supervised data provided. Testing mode.\n"
     ]
    },
    {
     "name": "stdout",
     "output_type": "stream",
     "text": [
      "Train shape: (102, 12627)\n",
      "Test shape: (102, 12627)\n",
      "Number of leaves: 102\n"
     ]
    }
   ],
   "source": [
    "dataset_name = \"celegans_small\"\n",
    "lineage_name = \"P0\"\n",
    "base_dir = \"/workspaces/1-phydist/main/CellTreeBench\"\n",
    "data_dir = f\"{base_dir}/data\"\n",
    "out_dir = f\"{base_dir}/examples/out/supervised_split_example_{dataset_name}_{lineage_name}\"\n",
    "\n",
    "# Load train and test splits with pre-defined supervised strategy\n",
    "train_dataset, test_dataset = load_celegans_supervised_split(\n",
    "    dataset_name=dataset_name,\n",
    "    lineage_name=lineage_name,\n",
    "    data_dir=data_dir,\n",
    "    out_dir=out_dir,\n",
    "    sampling_method=\"biological\",\n",
    "    seed=42\n",
    ")\n",
    "\n",
    "print(f\"Train shape: {train_dataset.data_normalized.shape}\")\n",
    "print(f\"Test shape: {test_dataset.data_normalized.shape}\")\n",
    "print(f\"Number of leaves: {train_dataset.n_leaves}\")\n"
   ]
  },
  {
   "cell_type": "code",
   "execution_count": 3,
   "metadata": {},
   "outputs": [
    {
     "name": "stderr",
     "output_type": "stream",
     "text": [
      "2025-06-23 09:19:39,306 - celltreebench.datasets.celegans_dataset_base - INFO - Creating topology tree for dataset [celegans_mid]\n",
      "2025-06-23 09:19:39,307 - celltreebench.datasets.celegans_dataset_base - INFO - Loading lineage tree from /workspaces/1-phydist/main/CellTreeBench/data/celegans_mid/P0/p0-topology_tree.nwk\n",
      "2025-06-23 09:19:39,312 - celltreebench.datasets.celegans_dataset_base - INFO - Saved topology tree to /workspaces/1-phydist/main/CellTreeBench/examples/out/supervised_split_example_celegans_mid_P0/topology_tree-ncells.txt\n",
      "2025-06-23 09:19:39,313 - celltreebench.datasets.celegans_dataset_base - INFO - Saved topology tree pickle to /workspaces/1-phydist/main/CellTreeBench/examples/out/supervised_split_example_celegans_mid_P0/topology_tree.pickle\n",
      "2025-06-23 09:19:39,427 - celltreebench.datasets.celegans_dataset_base - INFO - Loading cached gene expression data from /workspaces/1-phydist/main/CellTreeBench/data/celegans_mid/P0/exprs_df_cache.pkl\n",
      "2025-06-23 09:19:41,312 - celltreebench.datasets.celegans_dataset_base - INFO - Cached expression data as class statics for future use\n",
      "2025-06-23 09:19:41,313 - celltreebench.datasets.celegans_dataset_base - INFO - Calculated total quartets: 45212895\n",
      "2025-06-23 09:19:41,313 - celltreebench.datasets.celegans_dataset_base - INFO - Creating leaves metadata...\n",
      "2025-06-23 09:19:45,882 - celltreebench.datasets.celegans_dataset_base - INFO - Creating reference distance matrix...\n",
      "2025-06-23 09:19:46,438 - celltreebench.datasets.celegans_dataset_supervised - INFO - Generating supervised data with seed: 42\n",
      "2025-06-23 09:19:46,439 - celltreebench.datasets.celegans_dataset_supervised - INFO - [prepare_supervised_data] Seed: 42\n",
      "2025-06-23 09:19:46,638 - celltreebench.datasets.celegans_dataset_supervised - INFO - Genes have less than 10 umis in total: 14356 out of 27138\n",
      "2025-06-23 09:19:46,895 - celltreebench.datasets.celegans_dataset_supervised - INFO - Remaining genes: 12782\n",
      "2025-06-23 09:19:46,896 - celltreebench.datasets.celegans_dataset_supervised - INFO - Sampling strategy: biological\n",
      "2025-06-23 09:19:46,896 - celltreebench.datasets.celegans_dataset_supervised - INFO - Calculated feature statistics for 183 leaves\n",
      "2025-06-23 09:19:58,413 - celltreebench.datasets.celegans_dataset_base - INFO - Creating topology tree for dataset [celegans_mid]\n",
      "2025-06-23 09:19:58,414 - celltreebench.datasets.celegans_dataset_base - INFO - Loading lineage tree from /workspaces/1-phydist/main/CellTreeBench/data/celegans_mid/P0/p0-topology_tree.nwk\n",
      "2025-06-23 09:19:58,418 - celltreebench.datasets.celegans_dataset_base - INFO - Saved topology tree to /workspaces/1-phydist/main/CellTreeBench/examples/out/supervised_split_example_celegans_mid_P0/topology_tree-ncells.txt\n",
      "2025-06-23 09:19:58,419 - celltreebench.datasets.celegans_dataset_base - INFO - Saved topology tree pickle to /workspaces/1-phydist/main/CellTreeBench/examples/out/supervised_split_example_celegans_mid_P0/topology_tree.pickle\n",
      "2025-06-23 09:19:58,533 - celltreebench.datasets.celegans_dataset_base - INFO - Using cached expression data...\n",
      "2025-06-23 09:19:58,533 - celltreebench.datasets.celegans_dataset_base - INFO - Calculated total quartets: 45212895\n",
      "2025-06-23 09:19:58,533 - celltreebench.datasets.celegans_dataset_base - INFO - Creating leaves metadata...\n",
      "2025-06-23 09:20:03,071 - celltreebench.datasets.celegans_dataset_base - INFO - Creating reference distance matrix...\n",
      "2025-06-23 09:20:03,629 - celltreebench.datasets.celegans_dataset_supervised - INFO - Generated supervised data provided. Training mode.\n",
      "2025-06-23 09:20:03,630 - celltreebench.datasets.celegans_dataset_base - INFO - Creating topology tree for dataset [celegans_mid]\n",
      "2025-06-23 09:20:03,631 - celltreebench.datasets.celegans_dataset_base - INFO - Loading lineage tree from /workspaces/1-phydist/main/CellTreeBench/data/celegans_mid/P0/p0-topology_tree.nwk\n",
      "2025-06-23 09:20:03,635 - celltreebench.datasets.celegans_dataset_base - INFO - Saved topology tree to /workspaces/1-phydist/main/CellTreeBench/examples/out/supervised_split_example_celegans_mid_P0/topology_tree-ncells.txt\n",
      "2025-06-23 09:20:03,636 - celltreebench.datasets.celegans_dataset_base - INFO - Saved topology tree pickle to /workspaces/1-phydist/main/CellTreeBench/examples/out/supervised_split_example_celegans_mid_P0/topology_tree.pickle\n",
      "2025-06-23 09:20:03,754 - celltreebench.datasets.celegans_dataset_base - INFO - Using cached expression data...\n",
      "2025-06-23 09:20:03,755 - celltreebench.datasets.celegans_dataset_base - INFO - Calculated total quartets: 45212895\n",
      "2025-06-23 09:20:03,755 - celltreebench.datasets.celegans_dataset_base - INFO - Creating leaves metadata...\n",
      "2025-06-23 09:20:08,235 - celltreebench.datasets.celegans_dataset_base - INFO - Creating reference distance matrix...\n",
      "2025-06-23 09:20:08,799 - celltreebench.datasets.celegans_dataset_supervised - INFO - Generated supervised data provided. Testing mode.\n"
     ]
    },
    {
     "name": "stdout",
     "output_type": "stream",
     "text": [
      "Train shape: (183, 12781)\n",
      "Test shape: (183, 12781)\n",
      "Number of leaves: 183\n"
     ]
    }
   ],
   "source": [
    "dataset_name = \"celegans_mid\"\n",
    "lineage_name = \"P0\"\n",
    "base_dir = \"/workspaces/1-phydist/main/CellTreeBench\"\n",
    "data_dir = f\"{base_dir}/data\"\n",
    "out_dir = f\"{base_dir}/examples/out/supervised_split_example_{dataset_name}_{lineage_name}\"\n",
    "\n",
    "# Load train and test splits with pre-defined supervised strategy\n",
    "train_dataset, test_dataset = load_celegans_supervised_split(\n",
    "    dataset_name=dataset_name,\n",
    "    lineage_name=lineage_name,\n",
    "    data_dir=data_dir,\n",
    "    out_dir=out_dir,\n",
    "    sampling_method=\"biological\",\n",
    "    seed=42\n",
    ")\n",
    "\n",
    "print(f\"Train shape: {train_dataset.data_normalized.shape}\")\n",
    "print(f\"Test shape: {test_dataset.data_normalized.shape}\")\n",
    "print(f\"Number of leaves: {train_dataset.n_leaves}\")\n"
   ]
  },
  {
   "cell_type": "code",
   "execution_count": 4,
   "metadata": {},
   "outputs": [
    {
     "name": "stderr",
     "output_type": "stream",
     "text": [
      "2025-06-23 09:20:08,819 - celltreebench.datasets.celegans_dataset_base - INFO - Creating topology tree for dataset [celegans_large]\n",
      "2025-06-23 09:20:08,820 - celltreebench.datasets.celegans_dataset_base - INFO - Loading lineage tree from /workspaces/1-phydist/main/CellTreeBench/data/celegans_large/P0/p0-topology_tree.nwk\n",
      "2025-06-23 09:20:08,825 - celltreebench.datasets.celegans_dataset_base - INFO - Saved topology tree to /workspaces/1-phydist/main/CellTreeBench/examples/out/supervised_split_example_celegans_large_P0/topology_tree-ncells.txt\n",
      "2025-06-23 09:20:08,827 - celltreebench.datasets.celegans_dataset_base - INFO - Saved topology tree pickle to /workspaces/1-phydist/main/CellTreeBench/examples/out/supervised_split_example_celegans_large_P0/topology_tree.pickle\n",
      "2025-06-23 09:20:08,988 - celltreebench.datasets.celegans_dataset_base - INFO - Loading cached gene expression data from /workspaces/1-phydist/main/CellTreeBench/data/celegans_large/P0/exprs_df_cache.pkl\n",
      "2025-06-23 09:20:11,562 - celltreebench.datasets.celegans_dataset_base - INFO - Cached expression data as class statics for future use\n",
      "2025-06-23 09:20:11,563 - celltreebench.datasets.celegans_dataset_base - INFO - Calculated total quartets: 309177995\n",
      "2025-06-23 09:20:11,563 - celltreebench.datasets.celegans_dataset_base - INFO - Creating leaves metadata...\n",
      "2025-06-23 09:20:18,075 - celltreebench.datasets.celegans_dataset_base - INFO - Creating reference distance matrix...\n",
      "2025-06-23 09:20:19,523 - celltreebench.datasets.celegans_dataset_supervised - INFO - Generating supervised data with seed: 42\n",
      "2025-06-23 09:20:19,526 - celltreebench.datasets.celegans_dataset_supervised - INFO - [prepare_supervised_data] Seed: 42\n",
      "2025-06-23 09:20:19,807 - celltreebench.datasets.celegans_dataset_supervised - INFO - Genes have less than 10 umis in total: 5534 out of 20222\n",
      "2025-06-23 09:20:20,347 - celltreebench.datasets.celegans_dataset_supervised - INFO - Remaining genes: 14688\n",
      "2025-06-23 09:20:20,348 - celltreebench.datasets.celegans_dataset_supervised - INFO - Sampling strategy: biological\n",
      "2025-06-23 09:20:20,349 - celltreebench.datasets.celegans_dataset_supervised - INFO - Calculated feature statistics for 295 leaves\n",
      "2025-06-23 09:20:44,957 - celltreebench.datasets.celegans_dataset_base - INFO - Creating topology tree for dataset [celegans_large]\n",
      "2025-06-23 09:20:44,958 - celltreebench.datasets.celegans_dataset_base - INFO - Loading lineage tree from /workspaces/1-phydist/main/CellTreeBench/data/celegans_large/P0/p0-topology_tree.nwk\n",
      "2025-06-23 09:20:44,963 - celltreebench.datasets.celegans_dataset_base - INFO - Saved topology tree to /workspaces/1-phydist/main/CellTreeBench/examples/out/supervised_split_example_celegans_large_P0/topology_tree-ncells.txt\n",
      "2025-06-23 09:20:44,965 - celltreebench.datasets.celegans_dataset_base - INFO - Saved topology tree pickle to /workspaces/1-phydist/main/CellTreeBench/examples/out/supervised_split_example_celegans_large_P0/topology_tree.pickle\n",
      "2025-06-23 09:20:45,122 - celltreebench.datasets.celegans_dataset_base - INFO - Using cached expression data...\n",
      "2025-06-23 09:20:45,123 - celltreebench.datasets.celegans_dataset_base - INFO - Calculated total quartets: 309177995\n",
      "2025-06-23 09:20:45,123 - celltreebench.datasets.celegans_dataset_base - INFO - Creating leaves metadata...\n",
      "2025-06-23 09:20:51,644 - celltreebench.datasets.celegans_dataset_base - INFO - Creating reference distance matrix...\n",
      "2025-06-23 09:20:53,088 - celltreebench.datasets.celegans_dataset_supervised - INFO - Generated supervised data provided. Training mode.\n",
      "2025-06-23 09:20:53,093 - celltreebench.datasets.celegans_dataset_base - INFO - Creating topology tree for dataset [celegans_large]\n",
      "2025-06-23 09:20:53,093 - celltreebench.datasets.celegans_dataset_base - INFO - Loading lineage tree from /workspaces/1-phydist/main/CellTreeBench/data/celegans_large/P0/p0-topology_tree.nwk\n",
      "2025-06-23 09:20:53,098 - celltreebench.datasets.celegans_dataset_base - INFO - Saved topology tree to /workspaces/1-phydist/main/CellTreeBench/examples/out/supervised_split_example_celegans_large_P0/topology_tree-ncells.txt\n",
      "2025-06-23 09:20:53,100 - celltreebench.datasets.celegans_dataset_base - INFO - Saved topology tree pickle to /workspaces/1-phydist/main/CellTreeBench/examples/out/supervised_split_example_celegans_large_P0/topology_tree.pickle\n",
      "2025-06-23 09:20:53,258 - celltreebench.datasets.celegans_dataset_base - INFO - Using cached expression data...\n",
      "2025-06-23 09:20:53,258 - celltreebench.datasets.celegans_dataset_base - INFO - Calculated total quartets: 309177995\n",
      "2025-06-23 09:20:53,259 - celltreebench.datasets.celegans_dataset_base - INFO - Creating leaves metadata...\n",
      "2025-06-23 09:20:59,765 - celltreebench.datasets.celegans_dataset_base - INFO - Creating reference distance matrix...\n",
      "2025-06-23 09:21:01,194 - celltreebench.datasets.celegans_dataset_supervised - INFO - Generated supervised data provided. Testing mode.\n"
     ]
    },
    {
     "name": "stdout",
     "output_type": "stream",
     "text": [
      "Train shape: (295, 14687)\n",
      "Test shape: (295, 14687)\n",
      "Number of leaves: 295\n"
     ]
    }
   ],
   "source": [
    "dataset_name = \"celegans_large\"\n",
    "lineage_name = \"P0\"\n",
    "base_dir = \"/workspaces/1-phydist/main/CellTreeBench\"\n",
    "data_dir = f\"{base_dir}/data\"\n",
    "out_dir = f\"{base_dir}/examples/out/supervised_split_example_{dataset_name}_{lineage_name}\"\n",
    "\n",
    "# Load train and test splits with pre-defined supervised strategy\n",
    "train_dataset, test_dataset = load_celegans_supervised_split(\n",
    "    dataset_name=dataset_name,\n",
    "    lineage_name=lineage_name,\n",
    "    data_dir=data_dir,\n",
    "    out_dir=out_dir,\n",
    "    sampling_method=\"biological\",\n",
    "    seed=42\n",
    ")\n",
    "\n",
    "print(f\"Train shape: {train_dataset.data_normalized.shape}\")\n",
    "print(f\"Test shape: {test_dataset.data_normalized.shape}\")\n",
    "print(f\"Number of leaves: {train_dataset.n_leaves}\")\n"
   ]
  }
 ],
 "metadata": {
  "kernelspec": {
   "display_name": "py_env",
   "language": "python",
   "name": "python3"
  },
  "language_info": {
   "codemirror_mode": {
    "name": "ipython",
    "version": 3
   },
   "file_extension": ".py",
   "mimetype": "text/x-python",
   "name": "python",
   "nbconvert_exporter": "python",
   "pygments_lexer": "ipython3",
   "version": "3.11.11"
  }
 },
 "nbformat": 4,
 "nbformat_minor": 2
}
